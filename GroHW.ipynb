{
  "nbformat": 4,
  "nbformat_minor": 0,
  "metadata": {
    "colab": {
      "name": "GroHW.ipynb",
      "provenance": [],
      "collapsed_sections": [],
      "toc_visible": true,
      "authorship_tag": "ABX9TyMdKPBhzXcaPP4B+gBAzr6Q",
      "include_colab_link": true
    },
    "kernelspec": {
      "name": "python3",
      "display_name": "Python 3"
    },
    "language_info": {
      "name": "python"
    }
  },
  "cells": [
    {
      "cell_type": "markdown",
      "metadata": {
        "id": "view-in-github",
        "colab_type": "text"
      },
      "source": [
        "<a href=\"https://colab.research.google.com/github/hsebasa/SeriesHW/blob/main/GroHW.ipynb\" target=\"_parent\"><img src=\"https://colab.research.google.com/assets/colab-badge.svg\" alt=\"Open In Colab\"/></a>"
      ]
    },
    {
      "cell_type": "code",
      "execution_count": null,
      "metadata": {
        "id": "ii7HCwQxxjb4"
      },
      "outputs": [],
      "source": [
        "import warnings\n",
        "import pandas as pd\n",
        "import matplotlib.pyplot as plt"
      ]
    },
    {
      "cell_type": "code",
      "source": [
        "dates_format = '%Y-%m-%d'\n",
        "\n",
        "def convert_dates_df(df, cols):\n",
        "  for col in cols:\n",
        "    df[col] = pd.to_datetime(df[col], format=dates_format).dt.tz_localize(None)\n",
        "  return df"
      ],
      "metadata": {
        "id": "4AZF0NmN6N_B"
      },
      "execution_count": null,
      "outputs": []
    },
    {
      "cell_type": "code",
      "source": [
        "info_start_date = pd.Timestamp('2014-01-01')\n",
        "info_end_date = pd.Timestamp('2022-03-13')\n",
        "\n",
        "prod_start_date = pd.Timestamp('2015-01-01')\n",
        "prod_end_date = pd.Timestamp('2020-12-01')\n",
        "\n",
        "test_start_date = pd.Timestamp('2021-01-01')\n",
        "test_end_date = pd.Timestamp('2021-12-01')\n",
        "\n",
        "regions_ids = {93, 94, 95, 97, 98, 99, 102, 103, 104, 105}"
      ],
      "metadata": {
        "id": "pf8IcEBF93zB"
      },
      "execution_count": null,
      "outputs": []
    },
    {
      "cell_type": "code",
      "source": [
        "def check_regions(df, col_reg='region_id'):\n",
        "  regions = set(df.groupby(col_reg).groups.keys())\n",
        "  assert regions == regions_ids"
      ],
      "metadata": {
        "id": "oTJz3yaQcucI"
      },
      "execution_count": null,
      "outputs": []
    },
    {
      "cell_type": "code",
      "source": [
        "def month_diff(s, start_date=info_start_date):\n",
        "  return 12 * (s.dt.year - start_date.year) + (s.dt.month - start_date.month)"
      ],
      "metadata": {
        "id": "Vpgp7OkmNRMe"
      },
      "execution_count": null,
      "outputs": []
    },
    {
      "cell_type": "code",
      "source": [
        "def days_diff(s, start_date=info_start_date):\n",
        "  return (s - start_date).dt.days"
      ],
      "metadata": {
        "id": "CJdAj3DCPB_G"
      },
      "execution_count": null,
      "outputs": []
    },
    {
      "cell_type": "code",
      "source": [
        "def normalize_minmax(s):\n",
        "  return (s-s.min())/(s.max()-s.min())\n",
        "\n",
        "def normalize_trunc(s):\n",
        "  return (s-s.min())/s.std()\n",
        "  \n",
        "def normalize_norm(s):\n",
        "  return (s-s.mean())/s.std()"
      ],
      "metadata": {
        "id": "DhIwQzIOhIzP"
      },
      "execution_count": null,
      "outputs": []
    },
    {
      "cell_type": "code",
      "source": [
        "def check_number_days(df, col_days='days'):\n",
        "  \"\"\"\n",
        "  This function checks that the number of days for each region is the same, i.e.\n",
        "  there are no missing days.\n",
        "  \"\"\"\n",
        "  total_days = (info_end_date-info_start_date).days + 1\n",
        "  days_per_region = df.groupby('region_id')[col_days].nunique()\n",
        "  if (days_per_region != total_days).any():\n",
        "    warnings.warn('some regions have a different number of days')"
      ],
      "metadata": {
        "id": "pXs3jOAiN1P3"
      },
      "execution_count": null,
      "outputs": []
    },
    {
      "cell_type": "code",
      "source": [
        "def check_number_months(df, col_months='months', \n",
        "                        start_date=info_start_date, end_date=info_end_date):\n",
        "  \"\"\"\n",
        "  This function checks that the number of months given for each region \n",
        "  is the same, i.e. there are no missing months.\n",
        "  \"\"\"\n",
        "  years = (end_date.year-start_date.year)\n",
        "  total_months = 12*years + (end_date.month-start_date.month)+1\n",
        "  months_per_region = df.groupby('region_id')[col_months].nunique()\n",
        "  \n",
        "  assert not (months_per_region != total_months).any(), 'some regions have a different number of months'"
      ],
      "metadata": {
        "id": "8uP8z4tdRFr7"
      },
      "execution_count": null,
      "outputs": []
    },
    {
      "cell_type": "code",
      "source": [
        "def summarize_month(df, col_name):\n",
        "  def quant(q):\n",
        "    return lambda x: x.quantile(q)\n",
        "  def quant_diff(q1, q2):\n",
        "    return lambda x: x.quantile(q2)-x.quantile(q1)\n",
        "\n",
        "  groups = df.groupby(['region_id', 'months'])\n",
        "  res = groups[col_name].agg(q1=quant(0.25), q2=quant(0.5), \n",
        "                             q3=quant(0.75), q4=quant(0.9),\n",
        "                             d1=quant_diff(0.25, 0.75),\n",
        "                             mx='max', mn='min', avg='mean')\n",
        "  return res"
      ],
      "metadata": {
        "id": "QNR6jgN8ajg6"
      },
      "execution_count": null,
      "outputs": []
    },
    {
      "cell_type": "code",
      "source": [
        "def inpute(df, radius=1):\n",
        "  \"\"\"\n",
        "  https://stackoverflow.com/questions/57393103/pandas-replace-nans-with-mean-of-n-nearest-non-empty-values-in-column\n",
        "  \"\"\"\n",
        "  a = df.rolling(radius).mean()\n",
        "  b = df.iloc[::-1].rolling(radius).mean()\n",
        "\n",
        "  c = a.fillna(b).fillna(df).interpolate(method='nearest').ffill().bfill()\n",
        "  df = df.fillna(c)\n",
        "  return df"
      ],
      "metadata": {
        "id": "cdYytzZI0FsZ"
      },
      "execution_count": null,
      "outputs": []
    },
    {
      "cell_type": "markdown",
      "source": [
        "# Preprocess"
      ],
      "metadata": {
        "id": "PkPUtoYokIbA"
      }
    },
    {
      "cell_type": "markdown",
      "source": [
        "## Precipitation"
      ],
      "metadata": {
        "id": "IpaOUQfe89mx"
      }
    },
    {
      "cell_type": "code",
      "source": [
        "raw_precipitation = pd.read_csv(\"data/Daily Precipitation.csv\")\n",
        "convert_dates_df(raw_precipitation, ('start_date', 'end_date'))\n",
        "raw_precipitation.dtypes"
      ],
      "metadata": {
        "colab": {
          "base_uri": "https://localhost:8080/"
        },
        "id": "KnjUXSWj52In",
        "outputId": "0c060ae9-d4bf-4e65-8147-e046c41f1940"
      },
      "execution_count": null,
      "outputs": [
        {
          "output_type": "execute_result",
          "data": {
            "text/plain": [
              "start_date    datetime64[ns]\n",
              "end_date      datetime64[ns]\n",
              "precip               float64\n",
              "region_id              int64\n",
              "dtype: object"
            ]
          },
          "metadata": {},
          "execution_count": 12
        }
      ]
    },
    {
      "cell_type": "code",
      "source": [
        "raw_precipitation.isnull().any()"
      ],
      "metadata": {
        "colab": {
          "base_uri": "https://localhost:8080/"
        },
        "id": "4ltJvmnP7Kzs",
        "outputId": "00cd6fe2-eac1-4d01-acbd-980347553aec"
      },
      "execution_count": null,
      "outputs": [
        {
          "output_type": "execute_result",
          "data": {
            "text/plain": [
              "start_date    False\n",
              "end_date      False\n",
              "precip        False\n",
              "region_id     False\n",
              "dtype: bool"
            ]
          },
          "metadata": {},
          "execution_count": 13
        }
      ]
    },
    {
      "cell_type": "code",
      "source": [
        "check_regions(raw_precipitation)"
      ],
      "metadata": {
        "id": "1-AIfkaNdO5o"
      },
      "execution_count": null,
      "outputs": []
    },
    {
      "cell_type": "code",
      "source": [
        "raw_precipitation['days'] = days_diff(raw_precipitation['end_date'])\n",
        "raw_precipitation['months'] = month_diff(raw_precipitation['end_date'])"
      ],
      "metadata": {
        "id": "47_Sse7x5-9d"
      },
      "execution_count": null,
      "outputs": []
    },
    {
      "cell_type": "code",
      "source": [
        "check_number_days(raw_precipitation, col_days='days')\n",
        "check_number_months(raw_precipitation, col_months='months')"
      ],
      "metadata": {
        "id": "VnOVubrV-6AE"
      },
      "execution_count": null,
      "outputs": []
    },
    {
      "cell_type": "code",
      "source": [
        "raw_precipitation['precip'].describe()"
      ],
      "metadata": {
        "colab": {
          "base_uri": "https://localhost:8080/"
        },
        "id": "Kh8-tzq_jYTF",
        "outputId": "f2a5de91-13cc-4769-8431-8949f41102e6"
      },
      "execution_count": null,
      "outputs": [
        {
          "output_type": "execute_result",
          "data": {
            "text/plain": [
              "count    29940.000000\n",
              "mean         7.275856\n",
              "std          9.468009\n",
              "min          0.000000\n",
              "25%          1.112265\n",
              "50%          4.340616\n",
              "75%         10.086396\n",
              "max        151.307444\n",
              "Name: precip, dtype: float64"
            ]
          },
          "metadata": {},
          "execution_count": 17
        }
      ]
    },
    {
      "cell_type": "code",
      "source": [
        "raw_precipitation.hist('precip', bins=50)"
      ],
      "metadata": {
        "colab": {
          "base_uri": "https://localhost:8080/",
          "height": 316
        },
        "id": "QcQkv_7bm9lt",
        "outputId": "f43e2f1d-e8a2-4a1d-bb34-7a6bc2ec1d77"
      },
      "execution_count": null,
      "outputs": [
        {
          "output_type": "execute_result",
          "data": {
            "text/plain": [
              "array([[<matplotlib.axes._subplots.AxesSubplot object at 0x7fc56123aa90>]],\n",
              "      dtype=object)"
            ]
          },
          "metadata": {},
          "execution_count": 18
        },
        {
          "output_type": "display_data",
          "data": {
            "text/plain": [
              "<Figure size 432x288 with 1 Axes>"
            ],
            "image/png": "[encoded data removed]"
          },
          "metadata": {
            "needs_background": "light"
          }
        }
      ]
    },
    {
      "cell_type": "code",
      "source": [
        "raw_precipitation['precip_mod'] = normalize_trunc(raw_precipitation['precip'])"
      ],
      "metadata": {
        "id": "Y6-8-dbDiHr4"
      },
      "execution_count": null,
      "outputs": []
    },
    {
      "cell_type": "code",
      "source": [
        "precipitation = summarize_month(raw_precipitation, col_name='precip_mod')\n",
        "precipitation"
      ],
      "metadata": {
        "colab": {
          "base_uri": "https://localhost:8080/",
          "height": 455
        },
        "id": "C6o9DBC9Vdhw",
        "outputId": "c88eadcf-c34e-4d3a-8fc7-8cfdec7b029e"
      },
      "execution_count": null,
      "outputs": [
        {
          "output_type": "execute_result",
          "data": {
            "text/plain": [
              "                        q1        q2        q3        q4        d1         mx  \\\n",
              "region_id months                                                                \n",
              "93        0       0.001790  0.015184  0.054487  0.678576  0.052697   3.466796   \n",
              "          1       0.000606  0.004286  0.013498  0.101471  0.012893   0.397929   \n",
              "          2       0.000791  0.027224  0.567057  2.060341  0.566265   7.100018   \n",
              "          3       0.683134  1.049794  1.393519  2.065683  0.710384   3.185755   \n",
              "          4       0.395862  0.723557  1.296233  2.210631  0.900370   3.092338   \n",
              "...                    ...       ...       ...       ...       ...        ...   \n",
              "105       94      0.569809  1.200769  2.619505  3.609618  2.049696   6.288127   \n",
              "          95      0.028551  0.180851  2.018945  5.064177  1.990395   7.721921   \n",
              "          96      0.006563  0.011049  0.020848  0.115120  0.014284   0.336838   \n",
              "          97      0.098115  0.609065  3.455432  8.995157  3.357317  15.980915   \n",
              "          98      0.009739  0.224382  0.287254  1.534043  0.277516   2.746789   \n",
              "\n",
              "                        mn       avg  \n",
              "region_id months                      \n",
              "93        0       0.000040  0.268457  \n",
              "          1       0.000025  0.034433  \n",
              "          2       0.000007  0.655733  \n",
              "          3       0.051613  1.101957  \n",
              "          4       0.143641  0.967546  \n",
              "...                    ...       ...  \n",
              "105       94      0.086747  1.695945  \n",
              "          95      0.000033  1.529348  \n",
              "          96      0.000544  0.043608  \n",
              "          97      0.010405  2.839470  \n",
              "          98      0.002234  0.494197  \n",
              "\n",
              "[990 rows x 8 columns]"
            ],
            "text/html": [
              "\n",
              "  <div id=\"df-853a5b60-7c68-433b-be20-8ce9e41e35d4\">\n",
              "    <div class=\"colab-df-container\">\n",
              "      <div>\n",
              "<style scoped>\n",
              "    .dataframe tbody tr th:only-of-type {\n",
              "        vertical-align: middle;\n",
              "    }\n",
              "\n",
              "    .dataframe tbody tr th {\n",
              "        vertical-align: top;\n",
              "    }\n",
              "\n",
              "    .dataframe thead th {\n",
              "        text-align: right;\n",
              "    }\n",
              "</style>\n",
              "<table border=\"1\" class=\"dataframe\">\n",
              "  <thead>\n",
              "    <tr style=\"text-align: right;\">\n",
              "      <th></th>\n",
              "      <th></th>\n",
              "      <th>q1</th>\n",
              "      <th>q2</th>\n",
              "      <th>q3</th>\n",
              "      <th>q4</th>\n",
              "      <th>d1</th>\n",
              "      <th>mx</th>\n",
              "      <th>mn</th>\n",
              "      <th>avg</th>\n",
              "    </tr>\n",
              "    <tr>\n",
              "      <th>region_id</th>\n",
              "      <th>months</th>\n",
              "      <th></th>\n",
              "      <th></th>\n",
              "      <th></th>\n",
              "      <th></th>\n",
              "      <th></th>\n",
              "      <th></th>\n",
              "      <th></th>\n",
              "      <th></th>\n",
              "    </tr>\n",
              "  </thead>\n",
              "  <tbody>\n",
              "    <tr>\n",
              "      <th rowspan=\"5\" valign=\"top\">93</th>\n",
              "      <th>0</th>\n",
              "      <td>0.001790</td>\n",
              "      <td>0.015184</td>\n",
              "      <td>0.054487</td>\n",
              "      <td>0.678576</td>\n",
              "      <td>0.052697</td>\n",
              "      <td>3.466796</td>\n",
              "      <td>0.000040</td>\n",
              "      <td>0.268457</td>\n",
              "    </tr>\n",
              "    <tr>\n",
              "      <th>1</th>\n",
              "      <td>0.000606</td>\n",
              "      <td>0.004286</td>\n",
              "      <td>0.013498</td>\n",
              "      <td>0.101471</td>\n",
              "      <td>0.012893</td>\n",
              "      <td>0.397929</td>\n",
              "      <td>0.000025</td>\n",
              "      <td>0.034433</td>\n",
              "    </tr>\n",
              "    <tr>\n",
              "      <th>2</th>\n",
              "      <td>0.000791</td>\n",
              "      <td>0.027224</td>\n",
              "      <td>0.567057</td>\n",
              "      <td>2.060341</td>\n",
              "      <td>0.566265</td>\n",
              "      <td>7.100018</td>\n",
              "      <td>0.000007</td>\n",
              "      <td>0.655733</td>\n",
              "    </tr>\n",
              "    <tr>\n",
              "      <th>3</th>\n",
              "      <td>0.683134</td>\n",
              "      <td>1.049794</td>\n",
              "      <td>1.393519</td>\n",
              "      <td>2.065683</td>\n",
              "      <td>0.710384</td>\n",
              "      <td>3.185755</td>\n",
              "      <td>0.051613</td>\n",
              "      <td>1.101957</td>\n",
              "    </tr>\n",
              "    <tr>\n",
              "      <th>4</th>\n",
              "      <td>0.395862</td>\n",
              "      <td>0.723557</td>\n",
              "      <td>1.296233</td>\n",
              "      <td>2.210631</td>\n",
              "      <td>0.900370</td>\n",
              "      <td>3.092338</td>\n",
              "      <td>0.143641</td>\n",
              "      <td>0.967546</td>\n",
              "    </tr>\n",
              "    <tr>\n",
              "      <th>...</th>\n",
              "      <th>...</th>\n",
              "      <td>...</td>\n",
              "      <td>...</td>\n",
              "      <td>...</td>\n",
              "      <td>...</td>\n",
              "      <td>...</td>\n",
              "      <td>...</td>\n",
              "      <td>...</td>\n",
              "      <td>...</td>\n",
              "    </tr>\n",
              "    <tr>\n",
              "      <th rowspan=\"5\" valign=\"top\">105</th>\n",
              "      <th>94</th>\n",
              "      <td>0.569809</td>\n",
              "      <td>1.200769</td>\n",
              "      <td>2.619505</td>\n",
              "      <td>3.609618</td>\n",
              "      <td>2.049696</td>\n",
              "      <td>6.288127</td>\n",
              "      <td>0.086747</td>\n",
              "      <td>1.695945</td>\n",
              "    </tr>\n",
              "    <tr>\n",
              "      <th>95</th>\n",
              "      <td>0.028551</td>\n",
              "      <td>0.180851</td>\n",
              "      <td>2.018945</td>\n",
              "      <td>5.064177</td>\n",
              "      <td>1.990395</td>\n",
              "      <td>7.721921</td>\n",
              "      <td>0.000033</td>\n",
              "      <td>1.529348</td>\n",
              "    </tr>\n",
              "    <tr>\n",
              "      <th>96</th>\n",
              "      <td>0.006563</td>\n",
              "      <td>0.011049</td>\n",
              "      <td>0.020848</td>\n",
              "      <td>0.115120</td>\n",
              "      <td>0.014284</td>\n",
              "      <td>0.336838</td>\n",
              "      <td>0.000544</td>\n",
              "      <td>0.043608</td>\n",
              "    </tr>\n",
              "    <tr>\n",
              "      <th>97</th>\n",
              "      <td>0.098115</td>\n",
              "      <td>0.609065</td>\n",
              "      <td>3.455432</td>\n",
              "      <td>8.995157</td>\n",
              "      <td>3.357317</td>\n",
              "      <td>15.980915</td>\n",
              "      <td>0.010405</td>\n",
              "      <td>2.839470</td>\n",
              "    </tr>\n",
              "    <tr>\n",
              "      <th>98</th>\n",
              "      <td>0.009739</td>\n",
              "      <td>0.224382</td>\n",
              "      <td>0.287254</td>\n",
              "      <td>1.534043</td>\n",
              "      <td>0.277516</td>\n",
              "      <td>2.746789</td>\n",
              "      <td>0.002234</td>\n",
              "      <td>0.494197</td>\n",
              "    </tr>\n",
              "  </tbody>\n",
              "</table>\n",
              "<p>990 rows × 8 columns</p>\n",
              "</div>\n",
              "      <button class=\"colab-df-convert\" onclick=\"convertToInteractive('df-853a5b60-7c68-433b-be20-8ce9e41e35d4')\"\n",
              "              title=\"Convert this dataframe to an interactive table.\"\n",
              "              style=\"display:none;\">\n",
              "        \n",
              "  <svg xmlns=\"http://www.w3.org/2000/svg\" height=\"24px\"viewBox=\"0 0 24 24\"\n",
              "       width=\"24px\">\n",
              "    <path d=\"M0 0h24v24H0V0z\" fill=\"none\"/>\n",
              "    <path d=\"M18.56 5.44l.94 2.06.94-2.06 2.06-.94-2.06-.94-.94-2.06-.94 2.06-2.06.94zm-11 1L8.5 8.5l.94-2.06 2.06-.94-2.06-.94L8.5 2.5l-.94 2.06-2.06.94zm10 10l.94 2.06.94-2.06 2.06-.94-2.06-.94-.94-2.06-.94 2.06-2.06.94z\"/><path d=\"M17.41 7.96l-1.37-1.37c-.4-.4-.92-.59-1.43-.59-.52 0-1.04.2-1.43.59L10.3 9.45l-7.72 7.72c-.78.78-.78 2.05 0 2.83L4 21.41c.39.39.9.59 1.41.59.51 0 1.02-.2 1.41-.59l7.78-7.78 2.81-2.81c.8-.78.8-2.07 0-2.86zM5.41 20L4 18.59l7.72-7.72 1.47 1.35L5.41 20z\"/>\n",
              "  </svg>\n",
              "      </button>\n",
              "      \n",
              "  <style>\n",
              "    .colab-df-container {\n",
              "      display:flex;\n",
              "      flex-wrap:wrap;\n",
              "      gap: 12px;\n",
              "    }\n",
              "\n",
              "    .colab-df-convert {\n",
              "      background-color: #E8F0FE;\n",
              "      border: none;\n",
              "      border-radius: 50%;\n",
              "      cursor: pointer;\n",
              "      display: none;\n",
              "      fill: #1967D2;\n",
              "      height: 32px;\n",
              "      padding: 0 0 0 0;\n",
              "      width: 32px;\n",
              "    }\n",
              "\n",
              "    .colab-df-convert:hover {\n",
              "      background-color: #E2EBFA;\n",
              "      box-shadow: 0px 1px 2px rgba(60, 64, 67, 0.3), 0px 1px 3px 1px rgba(60, 64, 67, 0.15);\n",
              "      fill: #174EA6;\n",
              "    }\n",
              "\n",
              "    [theme=dark] .colab-df-convert {\n",
              "      background-color: #3B4455;\n",
              "      fill: #D2E3FC;\n",
              "    }\n",
              "\n",
              "    [theme=dark] .colab-df-convert:hover {\n",
              "      background-color: #434B5C;\n",
              "      box-shadow: 0px 1px 3px 1px rgba(0, 0, 0, 0.15);\n",
              "      filter: drop-shadow(0px 1px 2px rgba(0, 0, 0, 0.3));\n",
              "      fill: #FFFFFF;\n",
              "    }\n",
              "  </style>\n",
              "\n",
              "      <script>\n",
              "        const buttonEl =\n",
              "          document.querySelector('#df-853a5b60-7c68-433b-be20-8ce9e41e35d4 button.colab-df-convert');\n",
              "        buttonEl.style.display =\n",
              "          google.colab.kernel.accessAllowed ? 'block' : 'none';\n",
              "\n",
              "        async function convertToInteractive(key) {\n",
              "          const element = document.querySelector('#df-853a5b60-7c68-433b-be20-8ce9e41e35d4');\n",
              "          const dataTable =\n",
              "            await google.colab.kernel.invokeFunction('convertToInteractive',\n",
              "                                                     [key], {});\n",
              "          if (!dataTable) return;\n",
              "\n",
              "          const docLinkHtml = 'Like what you see? Visit the ' +\n",
              "            '<a target=\"_blank\" href=https://colab.research.google.com/notebooks/data_table.ipynb>data table notebook</a>'\n",
              "            + ' to learn more about interactive tables.';\n",
              "          element.innerHTML = '';\n",
              "          dataTable['output_type'] = 'display_data';\n",
              "          await google.colab.output.renderOutput(dataTable, element);\n",
              "          const docLink = document.createElement('div');\n",
              "          docLink.innerHTML = docLinkHtml;\n",
              "          element.appendChild(docLink);\n",
              "        }\n",
              "      </script>\n",
              "    </div>\n",
              "  </div>\n",
              "  "
            ]
          },
          "metadata": {},
          "execution_count": 20
        }
      ]
    },
    {
      "cell_type": "markdown",
      "source": [
        "## Soil Moisture"
      ],
      "metadata": {
        "id": "7esnFvr5LHUc"
      }
    },
    {
      "cell_type": "code",
      "source": [
        "raw_moisture = pd.read_csv(\"data/Daily Soil Mositure.csv\")\n",
        "convert_dates_df(raw_moisture, ('start_date', 'end_date'))\n",
        "raw_moisture.dtypes"
      ],
      "metadata": {
        "colab": {
          "base_uri": "https://localhost:8080/"
        },
        "id": "f0_ieXNfLFee",
        "outputId": "cc5d0ff9-806e-4dfc-8c30-651efd3dbe40"
      },
      "execution_count": null,
      "outputs": [
        {
          "output_type": "execute_result",
          "data": {
            "text/plain": [
              "start_date    datetime64[ns]\n",
              "end_date      datetime64[ns]\n",
              "smos                 float64\n",
              "region_id              int64\n",
              "dtype: object"
            ]
          },
          "metadata": {},
          "execution_count": 21
        }
      ]
    },
    {
      "cell_type": "code",
      "source": [
        "raw_moisture.isnull().any()"
      ],
      "metadata": {
        "colab": {
          "base_uri": "https://localhost:8080/"
        },
        "id": "6iuJAWowLGkt",
        "outputId": "1316a21e-cfb8-4bbe-8ac0-69b44948daf0"
      },
      "execution_count": null,
      "outputs": [
        {
          "output_type": "execute_result",
          "data": {
            "text/plain": [
              "start_date    False\n",
              "end_date      False\n",
              "smos          False\n",
              "region_id     False\n",
              "dtype: bool"
            ]
          },
          "metadata": {},
          "execution_count": 22
        }
      ]
    },
    {
      "cell_type": "code",
      "source": [
        "check_regions(raw_moisture)"
      ],
      "metadata": {
        "id": "PhNoqBaIdTsC"
      },
      "execution_count": null,
      "outputs": []
    },
    {
      "cell_type": "code",
      "source": [
        "raw_moisture['days'] = days_diff(raw_moisture['end_date'])\n",
        "raw_moisture['months'] = month_diff(raw_moisture['end_date'])"
      ],
      "metadata": {
        "id": "-TlCxORfcFND"
      },
      "execution_count": null,
      "outputs": []
    },
    {
      "cell_type": "code",
      "source": [
        "check_number_days(raw_moisture, col_days='days')\n",
        "check_number_months(raw_moisture, col_months='months')"
      ],
      "metadata": {
        "colab": {
          "base_uri": "https://localhost:8080/"
        },
        "id": "NKps4dlmcTlg",
        "outputId": "82d2cc3b-13ae-47bb-eb92-1d16874dc939"
      },
      "execution_count": null,
      "outputs": [
        {
          "output_type": "stream",
          "name": "stderr",
          "text": [
            "/usr/local/lib/python3.7/dist-packages/ipykernel_launcher.py:9: UserWarning: some regions have a different number of days\n",
            "  if __name__ == '__main__':\n"
          ]
        }
      ]
    },
    {
      "cell_type": "code",
      "source": [
        "raw_moisture['smos'].describe()"
      ],
      "metadata": {
        "colab": {
          "base_uri": "https://localhost:8080/"
        },
        "id": "C9OFdiqijPnl",
        "outputId": "d7d92c21-5bab-42ad-f4bc-028911902db1"
      },
      "execution_count": null,
      "outputs": [
        {
          "output_type": "execute_result",
          "data": {
            "text/plain": [
              "count    29603.000000\n",
              "mean         0.266492\n",
              "std          0.092495\n",
              "min          0.004318\n",
              "25%          0.203135\n",
              "50%          0.260049\n",
              "75%          0.321686\n",
              "max          0.814535\n",
              "Name: smos, dtype: float64"
            ]
          },
          "metadata": {},
          "execution_count": 26
        }
      ]
    },
    {
      "cell_type": "code",
      "source": [
        "raw_moisture.hist('smos', bins=50)"
      ],
      "metadata": {
        "colab": {
          "base_uri": "https://localhost:8080/",
          "height": 316
        },
        "id": "lrT5nLR7mLx1",
        "outputId": "0cc6dad1-fedf-41d2-ee3e-ed07c39752b0"
      },
      "execution_count": null,
      "outputs": [
        {
          "output_type": "execute_result",
          "data": {
            "text/plain": [
              "array([[<matplotlib.axes._subplots.AxesSubplot object at 0x7fc560709d10>]],\n",
              "      dtype=object)"
            ]
          },
          "metadata": {},
          "execution_count": 27
        },
        {
          "output_type": "display_data",
          "data": {
            "text/plain": [
              "<Figure size 432x288 with 1 Axes>"
            ],
            "image/png": "[encoded data removed]"
          },
          "metadata": {
            "needs_background": "light"
          }
        }
      ]
    },
    {
      "cell_type": "code",
      "source": [
        "raw_moisture['smos_mod'] = normalize_trunc(raw_moisture['smos'])"
      ],
      "metadata": {
        "id": "HlbTrEfWjKOc"
      },
      "execution_count": null,
      "outputs": []
    },
    {
      "cell_type": "code",
      "source": [
        "moisture = summarize_month(raw_moisture, col_name='smos_mod')\n",
        "moisture"
      ],
      "metadata": {
        "colab": {
          "base_uri": "https://localhost:8080/",
          "height": 455
        },
        "id": "sCKjn0-PceQQ",
        "outputId": "90f19bcc-1f3d-4208-adea-4e0f6c66b26c"
      },
      "execution_count": null,
      "outputs": [
        {
          "output_type": "execute_result",
          "data": {
            "text/plain": [
              "                        q1        q2        q3        q4        d1        mx  \\\n",
              "region_id months                                                               \n",
              "93        0       2.489719  3.071580  3.353687  4.052136  0.863968  4.809357   \n",
              "          1       2.510807  2.939144  3.177882  3.729588  0.667075  4.041195   \n",
              "          2       2.073835  2.726214  3.225006  3.898020  1.151171  4.036038   \n",
              "          3       2.580308  2.949137  3.529644  3.714432  0.949336  4.966163   \n",
              "          4       2.279184  2.649666  3.001700  3.528059  0.722516  3.625854   \n",
              "...                    ...       ...       ...       ...       ...       ...   \n",
              "105       94      4.031834  4.225898  4.339424  4.789530  0.307591  6.477209   \n",
              "          95      4.266989  4.650765  4.847240  5.445253  0.580251  5.615409   \n",
              "          96      4.059170  4.528208  4.875800  5.333497  0.816630  5.415463   \n",
              "          97      4.374657  4.902742  5.480834  5.649711  1.106177  5.756363   \n",
              "          98      4.480986  4.738722  4.738722  5.247543  0.257735  5.756363   \n",
              "\n",
              "                        mn       avg  \n",
              "region_id months                      \n",
              "93        0       1.908876  3.065612  \n",
              "          1       1.811537  2.904615  \n",
              "          2       1.609224  2.706107  \n",
              "          3       1.405275  2.958206  \n",
              "          4       1.320344  2.531482  \n",
              "...                    ...       ...  \n",
              "105       94      3.028356  4.253488  \n",
              "          95      3.548082  4.618796  \n",
              "          96      3.216714  4.491754  \n",
              "          97      4.068222  4.899098  \n",
              "          98      4.395075  4.793780  \n",
              "\n",
              "[990 rows x 8 columns]"
            ],
            "text/html": [
              "\n",
              "  <div id=\"df-3fe5628b-aeab-4c32-adcb-dab56e61feee\">\n",
              "    <div class=\"colab-df-container\">\n",
              "      <div>\n",
              "<style scoped>\n",
              "    .dataframe tbody tr th:only-of-type {\n",
              "        vertical-align: middle;\n",
              "    }\n",
              "\n",
              "    .dataframe tbody tr th {\n",
              "        vertical-align: top;\n",
              "    }\n",
              "\n",
              "    .dataframe thead th {\n",
              "        text-align: right;\n",
              "    }\n",
              "</style>\n",
              "<table border=\"1\" class=\"dataframe\">\n",
              "  <thead>\n",
              "    <tr style=\"text-align: right;\">\n",
              "      <th></th>\n",
              "      <th></th>\n",
              "      <th>q1</th>\n",
              "      <th>q2</th>\n",
              "      <th>q3</th>\n",
              "      <th>q4</th>\n",
              "      <th>d1</th>\n",
              "      <th>mx</th>\n",
              "      <th>mn</th>\n",
              "      <th>avg</th>\n",
              "    </tr>\n",
              "    <tr>\n",
              "      <th>region_id</th>\n",
              "      <th>months</th>\n",
              "      <th></th>\n",
              "      <th></th>\n",
              "      <th></th>\n",
              "      <th></th>\n",
              "      <th></th>\n",
              "      <th></th>\n",
              "      <th></th>\n",
              "      <th></th>\n",
              "    </tr>\n",
              "  </thead>\n",
              "  <tbody>\n",
              "    <tr>\n",
              "      <th rowspan=\"5\" valign=\"top\">93</th>\n",
              "      <th>0</th>\n",
              "      <td>2.489719</td>\n",
              "      <td>3.071580</td>\n",
              "      <td>3.353687</td>\n",
              "      <td>4.052136</td>\n",
              "      <td>0.863968</td>\n",
              "      <td>4.809357</td>\n",
              "      <td>1.908876</td>\n",
              "      <td>3.065612</td>\n",
              "    </tr>\n",
              "    <tr>\n",
              "      <th>1</th>\n",
              "      <td>2.510807</td>\n",
              "      <td>2.939144</td>\n",
              "      <td>3.177882</td>\n",
              "      <td>3.729588</td>\n",
              "      <td>0.667075</td>\n",
              "      <td>4.041195</td>\n",
              "      <td>1.811537</td>\n",
              "      <td>2.904615</td>\n",
              "    </tr>\n",
              "    <tr>\n",
              "      <th>2</th>\n",
              "      <td>2.073835</td>\n",
              "      <td>2.726214</td>\n",
              "      <td>3.225006</td>\n",
              "      <td>3.898020</td>\n",
              "      <td>1.151171</td>\n",
              "      <td>4.036038</td>\n",
              "      <td>1.609224</td>\n",
              "      <td>2.706107</td>\n",
              "    </tr>\n",
              "    <tr>\n",
              "      <th>3</th>\n",
              "      <td>2.580308</td>\n",
              "      <td>2.949137</td>\n",
              "      <td>3.529644</td>\n",
              "      <td>3.714432</td>\n",
              "      <td>0.949336</td>\n",
              "      <td>4.966163</td>\n",
              "      <td>1.405275</td>\n",
              "      <td>2.958206</td>\n",
              "    </tr>\n",
              "    <tr>\n",
              "      <th>4</th>\n",
              "      <td>2.279184</td>\n",
              "      <td>2.649666</td>\n",
              "      <td>3.001700</td>\n",
              "      <td>3.528059</td>\n",
              "      <td>0.722516</td>\n",
              "      <td>3.625854</td>\n",
              "      <td>1.320344</td>\n",
              "      <td>2.531482</td>\n",
              "    </tr>\n",
              "    <tr>\n",
              "      <th>...</th>\n",
              "      <th>...</th>\n",
              "      <td>...</td>\n",
              "      <td>...</td>\n",
              "      <td>...</td>\n",
              "      <td>...</td>\n",
              "      <td>...</td>\n",
              "      <td>...</td>\n",
              "      <td>...</td>\n",
              "      <td>...</td>\n",
              "    </tr>\n",
              "    <tr>\n",
              "      <th rowspan=\"5\" valign=\"top\">105</th>\n",
              "      <th>94</th>\n",
              "      <td>4.031834</td>\n",
              "      <td>4.225898</td>\n",
              "      <td>4.339424</td>\n",
              "      <td>4.789530</td>\n",
              "      <td>0.307591</td>\n",
              "      <td>6.477209</td>\n",
              "      <td>3.028356</td>\n",
              "      <td>4.253488</td>\n",
              "    </tr>\n",
              "    <tr>\n",
              "      <th>95</th>\n",
              "      <td>4.266989</td>\n",
              "      <td>4.650765</td>\n",
              "      <td>4.847240</td>\n",
              "      <td>5.445253</td>\n",
              "      <td>0.580251</td>\n",
              "      <td>5.615409</td>\n",
              "      <td>3.548082</td>\n",
              "      <td>4.618796</td>\n",
              "    </tr>\n",
              "    <tr>\n",
              "      <th>96</th>\n",
              "      <td>4.059170</td>\n",
              "      <td>4.528208</td>\n",
              "      <td>4.875800</td>\n",
              "      <td>5.333497</td>\n",
              "      <td>0.816630</td>\n",
              "      <td>5.415463</td>\n",
              "      <td>3.216714</td>\n",
              "      <td>4.491754</td>\n",
              "    </tr>\n",
              "    <tr>\n",
              "      <th>97</th>\n",
              "      <td>4.374657</td>\n",
              "      <td>4.902742</td>\n",
              "      <td>5.480834</td>\n",
              "      <td>5.649711</td>\n",
              "      <td>1.106177</td>\n",
              "      <td>5.756363</td>\n",
              "      <td>4.068222</td>\n",
              "      <td>4.899098</td>\n",
              "    </tr>\n",
              "    <tr>\n",
              "      <th>98</th>\n",
              "      <td>4.480986</td>\n",
              "      <td>4.738722</td>\n",
              "      <td>4.738722</td>\n",
              "      <td>5.247543</td>\n",
              "      <td>0.257735</td>\n",
              "      <td>5.756363</td>\n",
              "      <td>4.395075</td>\n",
              "      <td>4.793780</td>\n",
              "    </tr>\n",
              "  </tbody>\n",
              "</table>\n",
              "<p>990 rows × 8 columns</p>\n",
              "</div>\n",
              "      <button class=\"colab-df-convert\" onclick=\"convertToInteractive('df-3fe5628b-aeab-4c32-adcb-dab56e61feee')\"\n",
              "              title=\"Convert this dataframe to an interactive table.\"\n",
              "              style=\"display:none;\">\n",
              "        \n",
              "  <svg xmlns=\"http://www.w3.org/2000/svg\" height=\"24px\"viewBox=\"0 0 24 24\"\n",
              "       width=\"24px\">\n",
              "    <path d=\"M0 0h24v24H0V0z\" fill=\"none\"/>\n",
              "    <path d=\"M18.56 5.44l.94 2.06.94-2.06 2.06-.94-2.06-.94-.94-2.06-.94 2.06-2.06.94zm-11 1L8.5 8.5l.94-2.06 2.06-.94-2.06-.94L8.5 2.5l-.94 2.06-2.06.94zm10 10l.94 2.06.94-2.06 2.06-.94-2.06-.94-.94-2.06-.94 2.06-2.06.94z\"/><path d=\"M17.41 7.96l-1.37-1.37c-.4-.4-.92-.59-1.43-.59-.52 0-1.04.2-1.43.59L10.3 9.45l-7.72 7.72c-.78.78-.78 2.05 0 2.83L4 21.41c.39.39.9.59 1.41.59.51 0 1.02-.2 1.41-.59l7.78-7.78 2.81-2.81c.8-.78.8-2.07 0-2.86zM5.41 20L4 18.59l7.72-7.72 1.47 1.35L5.41 20z\"/>\n",
              "  </svg>\n",
              "      </button>\n",
              "      \n",
              "  <style>\n",
              "    .colab-df-container {\n",
              "      display:flex;\n",
              "      flex-wrap:wrap;\n",
              "      gap: 12px;\n",
              "    }\n",
              "\n",
              "    .colab-df-convert {\n",
              "      background-color: #E8F0FE;\n",
              "      border: none;\n",
              "      border-radius: 50%;\n",
              "      cursor: pointer;\n",
              "      display: none;\n",
              "      fill: #1967D2;\n",
              "      height: 32px;\n",
              "      padding: 0 0 0 0;\n",
              "      width: 32px;\n",
              "    }\n",
              "\n",
              "    .colab-df-convert:hover {\n",
              "      background-color: #E2EBFA;\n",
              "      box-shadow: 0px 1px 2px rgba(60, 64, 67, 0.3), 0px 1px 3px 1px rgba(60, 64, 67, 0.15);\n",
              "      fill: #174EA6;\n",
              "    }\n",
              "\n",
              "    [theme=dark] .colab-df-convert {\n",
              "      background-color: #3B4455;\n",
              "      fill: #D2E3FC;\n",
              "    }\n",
              "\n",
              "    [theme=dark] .colab-df-convert:hover {\n",
              "      background-color: #434B5C;\n",
              "      box-shadow: 0px 1px 3px 1px rgba(0, 0, 0, 0.15);\n",
              "      filter: drop-shadow(0px 1px 2px rgba(0, 0, 0, 0.3));\n",
              "      fill: #FFFFFF;\n",
              "    }\n",
              "  </style>\n",
              "\n",
              "      <script>\n",
              "        const buttonEl =\n",
              "          document.querySelector('#df-3fe5628b-aeab-4c32-adcb-dab56e61feee button.colab-df-convert');\n",
              "        buttonEl.style.display =\n",
              "          google.colab.kernel.accessAllowed ? 'block' : 'none';\n",
              "\n",
              "        async function convertToInteractive(key) {\n",
              "          const element = document.querySelector('#df-3fe5628b-aeab-4c32-adcb-dab56e61feee');\n",
              "          const dataTable =\n",
              "            await google.colab.kernel.invokeFunction('convertToInteractive',\n",
              "                                                     [key], {});\n",
              "          if (!dataTable) return;\n",
              "\n",
              "          const docLinkHtml = 'Like what you see? Visit the ' +\n",
              "            '<a target=\"_blank\" href=https://colab.research.google.com/notebooks/data_table.ipynb>data table notebook</a>'\n",
              "            + ' to learn more about interactive tables.';\n",
              "          element.innerHTML = '';\n",
              "          dataTable['output_type'] = 'display_data';\n",
              "          await google.colab.output.renderOutput(dataTable, element);\n",
              "          const docLink = document.createElement('div');\n",
              "          docLink.innerHTML = docLinkHtml;\n",
              "          element.appendChild(docLink);\n",
              "        }\n",
              "      </script>\n",
              "    </div>\n",
              "  </div>\n",
              "  "
            ]
          },
          "metadata": {},
          "execution_count": 29
        }
      ]
    },
    {
      "cell_type": "markdown",
      "source": [
        "## Temperature"
      ],
      "metadata": {
        "id": "-T9Yw3L7j7Am"
      }
    },
    {
      "cell_type": "code",
      "source": [
        "raw_temperature = pd.read_csv(\"data/Daily Temperature.csv\")\n",
        "convert_dates_df(raw_temperature, ('start_date', 'end_date'))\n",
        "raw_temperature.dtypes"
      ],
      "metadata": {
        "colab": {
          "base_uri": "https://localhost:8080/"
        },
        "id": "N3wBAsAZj0Wu",
        "outputId": "0bb5b34a-f7aa-402b-ad4e-9b60911c74ed"
      },
      "execution_count": null,
      "outputs": [
        {
          "output_type": "execute_result",
          "data": {
            "text/plain": [
              "start_date    datetime64[ns]\n",
              "end_date      datetime64[ns]\n",
              "temp                 float64\n",
              "region_id              int64\n",
              "dtype: object"
            ]
          },
          "metadata": {},
          "execution_count": 30
        }
      ]
    },
    {
      "cell_type": "code",
      "source": [
        "raw_temperature.isnull().any()"
      ],
      "metadata": {
        "colab": {
          "base_uri": "https://localhost:8080/"
        },
        "id": "yMYFvBdWkVVm",
        "outputId": "7a5cf190-0ffc-4243-f576-fbe5ed8de223"
      },
      "execution_count": null,
      "outputs": [
        {
          "output_type": "execute_result",
          "data": {
            "text/plain": [
              "start_date    False\n",
              "end_date      False\n",
              "temp          False\n",
              "region_id     False\n",
              "dtype: bool"
            ]
          },
          "metadata": {},
          "execution_count": 31
        }
      ]
    },
    {
      "cell_type": "code",
      "source": [
        "check_regions(raw_temperature)"
      ],
      "metadata": {
        "id": "x_rjxB9jkX6P"
      },
      "execution_count": null,
      "outputs": []
    },
    {
      "cell_type": "code",
      "source": [
        "raw_temperature['days'] = days_diff(raw_temperature['end_date'])\n",
        "raw_temperature['months'] = month_diff(raw_temperature['end_date'])"
      ],
      "metadata": {
        "id": "8lQcH-vekbKP"
      },
      "execution_count": null,
      "outputs": []
    },
    {
      "cell_type": "code",
      "source": [
        "check_number_days(raw_temperature, col_days='days')\n",
        "check_number_months(raw_temperature, col_months='months')"
      ],
      "metadata": {
        "colab": {
          "base_uri": "https://localhost:8080/"
        },
        "id": "vi9s0OKBkfYd",
        "outputId": "1ba624d2-7bd4-4456-e164-58c81a61aa22"
      },
      "execution_count": null,
      "outputs": [
        {
          "output_type": "stream",
          "name": "stderr",
          "text": [
            "/usr/local/lib/python3.7/dist-packages/ipykernel_launcher.py:9: UserWarning: some regions have a different number of days\n",
            "  if __name__ == '__main__':\n"
          ]
        }
      ]
    },
    {
      "cell_type": "code",
      "source": [
        "raw_temperature['temp'].describe()"
      ],
      "metadata": {
        "colab": {
          "base_uri": "https://localhost:8080/"
        },
        "id": "A9xfih7skkvU",
        "outputId": "f5fffd3e-2ff2-428a-d9b4-dc707be1a411"
      },
      "execution_count": null,
      "outputs": [
        {
          "output_type": "execute_result",
          "data": {
            "text/plain": [
              "count    12930.000000\n",
              "mean        26.542191\n",
              "std          2.494511\n",
              "min         17.031505\n",
              "25%         24.843353\n",
              "50%         26.591613\n",
              "75%         28.185999\n",
              "max         37.295265\n",
              "Name: temp, dtype: float64"
            ]
          },
          "metadata": {},
          "execution_count": 35
        }
      ]
    },
    {
      "cell_type": "code",
      "source": [
        "raw_temperature.hist('temp', bins=50)"
      ],
      "metadata": {
        "colab": {
          "base_uri": "https://localhost:8080/",
          "height": 316
        },
        "id": "tf9W9uuOnggQ",
        "outputId": "d0052fca-075a-474f-8425-2804dcedb180"
      },
      "execution_count": null,
      "outputs": [
        {
          "output_type": "execute_result",
          "data": {
            "text/plain": [
              "array([[<matplotlib.axes._subplots.AxesSubplot object at 0x7fc55fc6db50>]],\n",
              "      dtype=object)"
            ]
          },
          "metadata": {},
          "execution_count": 36
        },
        {
          "output_type": "display_data",
          "data": {
            "text/plain": [
              "<Figure size 432x288 with 1 Axes>"
            ],
            "image/png": "[encoded data removed]"
          },
          "metadata": {
            "needs_background": "light"
          }
        }
      ]
    },
    {
      "cell_type": "code",
      "source": [
        "raw_temperature['temp_mod'] = normalize_norm(raw_temperature['temp'])"
      ],
      "metadata": {
        "id": "F-bPDyVglPAv"
      },
      "execution_count": null,
      "outputs": []
    },
    {
      "cell_type": "code",
      "source": [
        "temperature = summarize_month(raw_temperature, col_name='temp_mod')\n",
        "temperature"
      ],
      "metadata": {
        "colab": {
          "base_uri": "https://localhost:8080/",
          "height": 455
        },
        "id": "-z3Fip44lYOo",
        "outputId": "d9479a25-dd1c-4fa4-9bc4-0327dae1c4fb"
      },
      "execution_count": null,
      "outputs": [
        {
          "output_type": "execute_result",
          "data": {
            "text/plain": [
              "                        q1        q2        q3        q4        d1        mx  \\\n",
              "region_id months                                                               \n",
              "93        0      -0.946967 -0.797890  0.016015  0.536725  0.962982  1.465003   \n",
              "          1      -0.275011 -0.083892  0.730455  0.992489  1.005466  1.295286   \n",
              "          2       0.629110  1.568792  1.727607  2.176111  1.098497  2.873767   \n",
              "          3      -0.758691  0.137846  0.386069  0.800249  1.144760  0.890482   \n",
              "          4      -0.342178 -0.035840  0.312780  0.867670  0.654958  1.302526   \n",
              "...                    ...       ...       ...       ...       ...       ...   \n",
              "105       94     -0.587641 -0.449841 -0.158974  0.100345  0.428667  0.227783   \n",
              "          95     -1.030390 -0.445485 -0.194331 -0.104684  0.836059 -0.093228   \n",
              "          96     -1.051037 -0.633447 -0.258504  0.294235  0.792533  0.705863   \n",
              "          97     -0.044954  0.256677  0.322673  0.361022  0.367627  0.386587   \n",
              "          98     -0.206361 -0.181748  0.226907  0.734323  0.433267  1.072600   \n",
              "\n",
              "                        mn       avg  \n",
              "region_id months                      \n",
              "93        0      -1.158150 -0.424946  \n",
              "          1      -1.805094  0.042331  \n",
              "          2      -1.144758  1.137256  \n",
              "          3      -1.856950 -0.109978  \n",
              "          4      -0.814847  0.040320  \n",
              "...                    ...       ...  \n",
              "105       94     -1.705992 -0.488754  \n",
              "          95     -1.732038 -0.675368  \n",
              "          96     -2.369690 -0.610303  \n",
              "          97     -0.470610  0.090075  \n",
              "          98     -0.857730  0.010733  \n",
              "\n",
              "[990 rows x 8 columns]"
            ],
            "text/html": [
              "\n",
              "  <div id=\"df-13373e92-2894-4640-bce1-e0df20513862\">\n",
              "    <div class=\"colab-df-container\">\n",
              "      <div>\n",
              "<style scoped>\n",
              "    .dataframe tbody tr th:only-of-type {\n",
              "        vertical-align: middle;\n",
              "    }\n",
              "\n",
              "    .dataframe tbody tr th {\n",
              "        vertical-align: top;\n",
              "    }\n",
              "\n",
              "    .dataframe thead th {\n",
              "        text-align: right;\n",
              "    }\n",
              "</style>\n",
              "<table border=\"1\" class=\"dataframe\">\n",
              "  <thead>\n",
              "    <tr style=\"text-align: right;\">\n",
              "      <th></th>\n",
              "      <th></th>\n",
              "      <th>q1</th>\n",
              "      <th>q2</th>\n",
              "      <th>q3</th>\n",
              "      <th>q4</th>\n",
              "      <th>d1</th>\n",
              "      <th>mx</th>\n",
              "      <th>mn</th>\n",
              "      <th>avg</th>\n",
              "    </tr>\n",
              "    <tr>\n",
              "      <th>region_id</th>\n",
              "      <th>months</th>\n",
              "      <th></th>\n",
              "      <th></th>\n",
              "      <th></th>\n",
              "      <th></th>\n",
              "      <th></th>\n",
              "      <th></th>\n",
              "      <th></th>\n",
              "      <th></th>\n",
              "    </tr>\n",
              "  </thead>\n",
              "  <tbody>\n",
              "    <tr>\n",
              "      <th rowspan=\"5\" valign=\"top\">93</th>\n",
              "      <th>0</th>\n",
              "      <td>-0.946967</td>\n",
              "      <td>-0.797890</td>\n",
              "      <td>0.016015</td>\n",
              "      <td>0.536725</td>\n",
              "      <td>0.962982</td>\n",
              "      <td>1.465003</td>\n",
              "      <td>-1.158150</td>\n",
              "      <td>-0.424946</td>\n",
              "    </tr>\n",
              "    <tr>\n",
              "      <th>1</th>\n",
              "      <td>-0.275011</td>\n",
              "      <td>-0.083892</td>\n",
              "      <td>0.730455</td>\n",
              "      <td>0.992489</td>\n",
              "      <td>1.005466</td>\n",
              "      <td>1.295286</td>\n",
              "      <td>-1.805094</td>\n",
              "      <td>0.042331</td>\n",
              "    </tr>\n",
              "    <tr>\n",
              "      <th>2</th>\n",
              "      <td>0.629110</td>\n",
              "      <td>1.568792</td>\n",
              "      <td>1.727607</td>\n",
              "      <td>2.176111</td>\n",
              "      <td>1.098497</td>\n",
              "      <td>2.873767</td>\n",
              "      <td>-1.144758</td>\n",
              "      <td>1.137256</td>\n",
              "    </tr>\n",
              "    <tr>\n",
              "      <th>3</th>\n",
              "      <td>-0.758691</td>\n",
              "      <td>0.137846</td>\n",
              "      <td>0.386069</td>\n",
              "      <td>0.800249</td>\n",
              "      <td>1.144760</td>\n",
              "      <td>0.890482</td>\n",
              "      <td>-1.856950</td>\n",
              "      <td>-0.109978</td>\n",
              "    </tr>\n",
              "    <tr>\n",
              "      <th>4</th>\n",
              "      <td>-0.342178</td>\n",
              "      <td>-0.035840</td>\n",
              "      <td>0.312780</td>\n",
              "      <td>0.867670</td>\n",
              "      <td>0.654958</td>\n",
              "      <td>1.302526</td>\n",
              "      <td>-0.814847</td>\n",
              "      <td>0.040320</td>\n",
              "    </tr>\n",
              "    <tr>\n",
              "      <th>...</th>\n",
              "      <th>...</th>\n",
              "      <td>...</td>\n",
              "      <td>...</td>\n",
              "      <td>...</td>\n",
              "      <td>...</td>\n",
              "      <td>...</td>\n",
              "      <td>...</td>\n",
              "      <td>...</td>\n",
              "      <td>...</td>\n",
              "    </tr>\n",
              "    <tr>\n",
              "      <th rowspan=\"5\" valign=\"top\">105</th>\n",
              "      <th>94</th>\n",
              "      <td>-0.587641</td>\n",
              "      <td>-0.449841</td>\n",
              "      <td>-0.158974</td>\n",
              "      <td>0.100345</td>\n",
              "      <td>0.428667</td>\n",
              "      <td>0.227783</td>\n",
              "      <td>-1.705992</td>\n",
              "      <td>-0.488754</td>\n",
              "    </tr>\n",
              "    <tr>\n",
              "      <th>95</th>\n",
              "      <td>-1.030390</td>\n",
              "      <td>-0.445485</td>\n",
              "      <td>-0.194331</td>\n",
              "      <td>-0.104684</td>\n",
              "      <td>0.836059</td>\n",
              "      <td>-0.093228</td>\n",
              "      <td>-1.732038</td>\n",
              "      <td>-0.675368</td>\n",
              "    </tr>\n",
              "    <tr>\n",
              "      <th>96</th>\n",
              "      <td>-1.051037</td>\n",
              "      <td>-0.633447</td>\n",
              "      <td>-0.258504</td>\n",
              "      <td>0.294235</td>\n",
              "      <td>0.792533</td>\n",
              "      <td>0.705863</td>\n",
              "      <td>-2.369690</td>\n",
              "      <td>-0.610303</td>\n",
              "    </tr>\n",
              "    <tr>\n",
              "      <th>97</th>\n",
              "      <td>-0.044954</td>\n",
              "      <td>0.256677</td>\n",
              "      <td>0.322673</td>\n",
              "      <td>0.361022</td>\n",
              "      <td>0.367627</td>\n",
              "      <td>0.386587</td>\n",
              "      <td>-0.470610</td>\n",
              "      <td>0.090075</td>\n",
              "    </tr>\n",
              "    <tr>\n",
              "      <th>98</th>\n",
              "      <td>-0.206361</td>\n",
              "      <td>-0.181748</td>\n",
              "      <td>0.226907</td>\n",
              "      <td>0.734323</td>\n",
              "      <td>0.433267</td>\n",
              "      <td>1.072600</td>\n",
              "      <td>-0.857730</td>\n",
              "      <td>0.010733</td>\n",
              "    </tr>\n",
              "  </tbody>\n",
              "</table>\n",
              "<p>990 rows × 8 columns</p>\n",
              "</div>\n",
              "      <button class=\"colab-df-convert\" onclick=\"convertToInteractive('df-13373e92-2894-4640-bce1-e0df20513862')\"\n",
              "              title=\"Convert this dataframe to an interactive table.\"\n",
              "              style=\"display:none;\">\n",
              "        \n",
              "  <svg xmlns=\"http://www.w3.org/2000/svg\" height=\"24px\"viewBox=\"0 0 24 24\"\n",
              "       width=\"24px\">\n",
              "    <path d=\"M0 0h24v24H0V0z\" fill=\"none\"/>\n",
              "    <path d=\"M18.56 5.44l.94 2.06.94-2.06 2.06-.94-2.06-.94-.94-2.06-.94 2.06-2.06.94zm-11 1L8.5 8.5l.94-2.06 2.06-.94-2.06-.94L8.5 2.5l-.94 2.06-2.06.94zm10 10l.94 2.06.94-2.06 2.06-.94-2.06-.94-.94-2.06-.94 2.06-2.06.94z\"/><path d=\"M17.41 7.96l-1.37-1.37c-.4-.4-.92-.59-1.43-.59-.52 0-1.04.2-1.43.59L10.3 9.45l-7.72 7.72c-.78.78-.78 2.05 0 2.83L4 21.41c.39.39.9.59 1.41.59.51 0 1.02-.2 1.41-.59l7.78-7.78 2.81-2.81c.8-.78.8-2.07 0-2.86zM5.41 20L4 18.59l7.72-7.72 1.47 1.35L5.41 20z\"/>\n",
              "  </svg>\n",
              "      </button>\n",
              "      \n",
              "  <style>\n",
              "    .colab-df-container {\n",
              "      display:flex;\n",
              "      flex-wrap:wrap;\n",
              "      gap: 12px;\n",
              "    }\n",
              "\n",
              "    .colab-df-convert {\n",
              "      background-color: #E8F0FE;\n",
              "      border: none;\n",
              "      border-radius: 50%;\n",
              "      cursor: pointer;\n",
              "      display: none;\n",
              "      fill: #1967D2;\n",
              "      height: 32px;\n",
              "      padding: 0 0 0 0;\n",
              "      width: 32px;\n",
              "    }\n",
              "\n",
              "    .colab-df-convert:hover {\n",
              "      background-color: #E2EBFA;\n",
              "      box-shadow: 0px 1px 2px rgba(60, 64, 67, 0.3), 0px 1px 3px 1px rgba(60, 64, 67, 0.15);\n",
              "      fill: #174EA6;\n",
              "    }\n",
              "\n",
              "    [theme=dark] .colab-df-convert {\n",
              "      background-color: #3B4455;\n",
              "      fill: #D2E3FC;\n",
              "    }\n",
              "\n",
              "    [theme=dark] .colab-df-convert:hover {\n",
              "      background-color: #434B5C;\n",
              "      box-shadow: 0px 1px 3px 1px rgba(0, 0, 0, 0.15);\n",
              "      filter: drop-shadow(0px 1px 2px rgba(0, 0, 0, 0.3));\n",
              "      fill: #FFFFFF;\n",
              "    }\n",
              "  </style>\n",
              "\n",
              "      <script>\n",
              "        const buttonEl =\n",
              "          document.querySelector('#df-13373e92-2894-4640-bce1-e0df20513862 button.colab-df-convert');\n",
              "        buttonEl.style.display =\n",
              "          google.colab.kernel.accessAllowed ? 'block' : 'none';\n",
              "\n",
              "        async function convertToInteractive(key) {\n",
              "          const element = document.querySelector('#df-13373e92-2894-4640-bce1-e0df20513862');\n",
              "          const dataTable =\n",
              "            await google.colab.kernel.invokeFunction('convertToInteractive',\n",
              "                                                     [key], {});\n",
              "          if (!dataTable) return;\n",
              "\n",
              "          const docLinkHtml = 'Like what you see? Visit the ' +\n",
              "            '<a target=\"_blank\" href=https://colab.research.google.com/notebooks/data_table.ipynb>data table notebook</a>'\n",
              "            + ' to learn more about interactive tables.';\n",
              "          element.innerHTML = '';\n",
              "          dataTable['output_type'] = 'display_data';\n",
              "          await google.colab.output.renderOutput(dataTable, element);\n",
              "          const docLink = document.createElement('div');\n",
              "          docLink.innerHTML = docLinkHtml;\n",
              "          element.appendChild(docLink);\n",
              "        }\n",
              "      </script>\n",
              "    </div>\n",
              "  </div>\n",
              "  "
            ]
          },
          "metadata": {},
          "execution_count": 38
        }
      ]
    },
    {
      "cell_type": "code",
      "source": [
        "ax = plt.gca()\n",
        "temperature.hist('q1', bins=50, ax=ax, density=True, alpha=0.7)\n",
        "temperature.hist('q3', bins=50, ax=ax, density=True, alpha=0.7)"
      ],
      "metadata": {
        "colab": {
          "base_uri": "https://localhost:8080/",
          "height": 316
        },
        "id": "nezvT5runm9A",
        "outputId": "95dabc03-6842-49a8-f2ff-685799a23285"
      },
      "execution_count": null,
      "outputs": [
        {
          "output_type": "execute_result",
          "data": {
            "text/plain": [
              "array([<matplotlib.axes._subplots.AxesSubplot object at 0x7fc55fb1a710>],\n",
              "      dtype=object)"
            ]
          },
          "metadata": {},
          "execution_count": 39
        },
        {
          "output_type": "display_data",
          "data": {
            "text/plain": [
              "<Figure size 432x288 with 1 Axes>"
            ],
            "image/png": "[encoded data removed]"
          },
          "metadata": {
            "needs_background": "light"
          }
        }
      ]
    },
    {
      "cell_type": "markdown",
      "source": [
        "## NDVI"
      ],
      "metadata": {
        "id": "IjNBND0RqEQs"
      }
    },
    {
      "cell_type": "code",
      "source": [
        "raw_ndvi = pd.read_csv(\"data/Eight Day NDVI.csv\")\n",
        "convert_dates_df(raw_ndvi, ('start_date', 'end_date'))\n",
        "raw_ndvi.dtypes"
      ],
      "metadata": {
        "colab": {
          "base_uri": "https://localhost:8080/"
        },
        "id": "Lp2y9Ob7qAbt",
        "outputId": "2ef3520d-a9c2-42ba-aa52-fbc83d0a24bf"
      },
      "execution_count": null,
      "outputs": [
        {
          "output_type": "execute_result",
          "data": {
            "text/plain": [
              "start_date    datetime64[ns]\n",
              "end_date      datetime64[ns]\n",
              "ndvi                 float64\n",
              "region_id              int64\n",
              "dtype: object"
            ]
          },
          "metadata": {},
          "execution_count": 40
        }
      ]
    },
    {
      "cell_type": "code",
      "source": [
        "raw_ndvi.isnull().any()"
      ],
      "metadata": {
        "colab": {
          "base_uri": "https://localhost:8080/"
        },
        "id": "rTg_yzbgqDiq",
        "outputId": "099c21dd-019c-40f3-f040-65511182ee3d"
      },
      "execution_count": null,
      "outputs": [
        {
          "output_type": "execute_result",
          "data": {
            "text/plain": [
              "start_date    False\n",
              "end_date      False\n",
              "ndvi          False\n",
              "region_id     False\n",
              "dtype: bool"
            ]
          },
          "metadata": {},
          "execution_count": 41
        }
      ]
    },
    {
      "cell_type": "code",
      "source": [
        "check_regions(raw_ndvi)"
      ],
      "metadata": {
        "id": "v7udNGJdsv4n"
      },
      "execution_count": null,
      "outputs": []
    },
    {
      "cell_type": "code",
      "source": [
        "raw_ndvi['days'] = days_diff(raw_ndvi['end_date'])\n",
        "raw_ndvi['months'] = month_diff(raw_ndvi['end_date'])"
      ],
      "metadata": {
        "id": "jxwsDsCRsysd"
      },
      "execution_count": null,
      "outputs": []
    },
    {
      "cell_type": "code",
      "source": [
        "months = set(range(99))\n",
        "missing_months_per_region = raw_ndvi.groupby(['region_id']).apply(lambda df: months-set(df['months'].to_list()))\n",
        "missing_months_per_region"
      ],
      "metadata": {
        "colab": {
          "base_uri": "https://localhost:8080/"
        },
        "id": "KIUywySBtAVj",
        "outputId": "c688caf7-39ce-49d3-dd7d-135d79512d5a"
      },
      "execution_count": null,
      "outputs": [
        {
          "output_type": "execute_result",
          "data": {
            "text/plain": [
              "region_id\n",
              "93             {34}\n",
              "94               {}\n",
              "95               {}\n",
              "97             {34}\n",
              "98             {34}\n",
              "99               {}\n",
              "102              {}\n",
              "103              {}\n",
              "104    {34, 83, 94}\n",
              "105        {48, 34}\n",
              "dtype: object"
            ]
          },
          "metadata": {},
          "execution_count": 44
        }
      ]
    },
    {
      "cell_type": "code",
      "source": [
        "raw_ndvi['ndvi'].describe()"
      ],
      "metadata": {
        "colab": {
          "base_uri": "https://localhost:8080/"
        },
        "id": "q8BqmGU0uWUx",
        "outputId": "68840ac5-9131-4e2e-c0c3-f21d99767e79"
      },
      "execution_count": null,
      "outputs": [
        {
          "output_type": "execute_result",
          "data": {
            "text/plain": [
              "count    3338.000000\n",
              "mean        0.798429\n",
              "std         0.033146\n",
              "min         0.573141\n",
              "25%         0.784141\n",
              "50%         0.805861\n",
              "75%         0.821163\n",
              "max         0.862471\n",
              "Name: ndvi, dtype: float64"
            ]
          },
          "metadata": {},
          "execution_count": 45
        }
      ]
    },
    {
      "cell_type": "code",
      "source": [
        "raw_ndvi.hist('ndvi', bins=50)"
      ],
      "metadata": {
        "colab": {
          "base_uri": "https://localhost:8080/",
          "height": 316
        },
        "id": "3HqrRn6DvGCN",
        "outputId": "15eb7165-1ca9-447d-f593-c6c6bbad9457"
      },
      "execution_count": null,
      "outputs": [
        {
          "output_type": "execute_result",
          "data": {
            "text/plain": [
              "array([[<matplotlib.axes._subplots.AxesSubplot object at 0x7fc55fc52c50>]],\n",
              "      dtype=object)"
            ]
          },
          "metadata": {},
          "execution_count": 46
        },
        {
          "output_type": "display_data",
          "data": {
            "text/plain": [
              "<Figure size 432x288 with 1 Axes>"
            ],
            "image/png": "[encoded data removed]"
          },
          "metadata": {
            "needs_background": "light"
          }
        }
      ]
    },
    {
      "cell_type": "code",
      "source": [
        "raw_ndvi['ndvi_mod'] = normalize_norm(raw_ndvi['ndvi'])"
      ],
      "metadata": {
        "id": "CqmrVDpAvRRy"
      },
      "execution_count": null,
      "outputs": []
    },
    {
      "cell_type": "code",
      "source": [
        "mean_ndvi = raw_ndvi.groupby(['region_id', 'months'])['ndvi'].mean()\n",
        "ndvi_stacked = inpute(mean_ndvi.unstack(level=1))"
      ],
      "metadata": {
        "id": "f2bN5h5Tvxl9"
      },
      "execution_count": null,
      "outputs": []
    },
    {
      "cell_type": "code",
      "source": [
        "ndvi = ndvi_stacked.stack(level=0).to_frame('avg')\n",
        "ndvi"
      ],
      "metadata": {
        "colab": {
          "base_uri": "https://localhost:8080/",
          "height": 455
        },
        "id": "qlfvpQsU0rep",
        "outputId": "e43eba30-2226-4428-9201-010a4ef51540"
      },
      "execution_count": null,
      "outputs": [
        {
          "output_type": "execute_result",
          "data": {
            "text/plain": [
              "                       avg\n",
              "region_id months          \n",
              "93        0       0.718269\n",
              "          1       0.767647\n",
              "          2       0.743301\n",
              "          3       0.807792\n",
              "          4       0.813410\n",
              "...                    ...\n",
              "105       94      0.798444\n",
              "          95      0.811967\n",
              "          96      0.804896\n",
              "          97      0.790585\n",
              "          98      0.795875\n",
              "\n",
              "[990 rows x 1 columns]"
            ],
            "text/html": [
              "\n",
              "  <div id=\"df-1b147b66-f245-4af6-a7cd-eadea4094da1\">\n",
              "    <div class=\"colab-df-container\">\n",
              "      <div>\n",
              "<style scoped>\n",
              "    .dataframe tbody tr th:only-of-type {\n",
              "        vertical-align: middle;\n",
              "    }\n",
              "\n",
              "    .dataframe tbody tr th {\n",
              "        vertical-align: top;\n",
              "    }\n",
              "\n",
              "    .dataframe thead th {\n",
              "        text-align: right;\n",
              "    }\n",
              "</style>\n",
              "<table border=\"1\" class=\"dataframe\">\n",
              "  <thead>\n",
              "    <tr style=\"text-align: right;\">\n",
              "      <th></th>\n",
              "      <th></th>\n",
              "      <th>avg</th>\n",
              "    </tr>\n",
              "    <tr>\n",
              "      <th>region_id</th>\n",
              "      <th>months</th>\n",
              "      <th></th>\n",
              "    </tr>\n",
              "  </thead>\n",
              "  <tbody>\n",
              "    <tr>\n",
              "      <th rowspan=\"5\" valign=\"top\">93</th>\n",
              "      <th>0</th>\n",
              "      <td>0.718269</td>\n",
              "    </tr>\n",
              "    <tr>\n",
              "      <th>1</th>\n",
              "      <td>0.767647</td>\n",
              "    </tr>\n",
              "    <tr>\n",
              "      <th>2</th>\n",
              "      <td>0.743301</td>\n",
              "    </tr>\n",
              "    <tr>\n",
              "      <th>3</th>\n",
              "      <td>0.807792</td>\n",
              "    </tr>\n",
              "    <tr>\n",
              "      <th>4</th>\n",
              "      <td>0.813410</td>\n",
              "    </tr>\n",
              "    <tr>\n",
              "      <th>...</th>\n",
              "      <th>...</th>\n",
              "      <td>...</td>\n",
              "    </tr>\n",
              "    <tr>\n",
              "      <th rowspan=\"5\" valign=\"top\">105</th>\n",
              "      <th>94</th>\n",
              "      <td>0.798444</td>\n",
              "    </tr>\n",
              "    <tr>\n",
              "      <th>95</th>\n",
              "      <td>0.811967</td>\n",
              "    </tr>\n",
              "    <tr>\n",
              "      <th>96</th>\n",
              "      <td>0.804896</td>\n",
              "    </tr>\n",
              "    <tr>\n",
              "      <th>97</th>\n",
              "      <td>0.790585</td>\n",
              "    </tr>\n",
              "    <tr>\n",
              "      <th>98</th>\n",
              "      <td>0.795875</td>\n",
              "    </tr>\n",
              "  </tbody>\n",
              "</table>\n",
              "<p>990 rows × 1 columns</p>\n",
              "</div>\n",
              "      <button class=\"colab-df-convert\" onclick=\"convertToInteractive('df-1b147b66-f245-4af6-a7cd-eadea4094da1')\"\n",
              "              title=\"Convert this dataframe to an interactive table.\"\n",
              "              style=\"display:none;\">\n",
              "        \n",
              "  <svg xmlns=\"http://www.w3.org/2000/svg\" height=\"24px\"viewBox=\"0 0 24 24\"\n",
              "       width=\"24px\">\n",
              "    <path d=\"M0 0h24v24H0V0z\" fill=\"none\"/>\n",
              "    <path d=\"M18.56 5.44l.94 2.06.94-2.06 2.06-.94-2.06-.94-.94-2.06-.94 2.06-2.06.94zm-11 1L8.5 8.5l.94-2.06 2.06-.94-2.06-.94L8.5 2.5l-.94 2.06-2.06.94zm10 10l.94 2.06.94-2.06 2.06-.94-2.06-.94-.94-2.06-.94 2.06-2.06.94z\"/><path d=\"M17.41 7.96l-1.37-1.37c-.4-.4-.92-.59-1.43-.59-.52 0-1.04.2-1.43.59L10.3 9.45l-7.72 7.72c-.78.78-.78 2.05 0 2.83L4 21.41c.39.39.9.59 1.41.59.51 0 1.02-.2 1.41-.59l7.78-7.78 2.81-2.81c.8-.78.8-2.07 0-2.86zM5.41 20L4 18.59l7.72-7.72 1.47 1.35L5.41 20z\"/>\n",
              "  </svg>\n",
              "      </button>\n",
              "      \n",
              "  <style>\n",
              "    .colab-df-container {\n",
              "      display:flex;\n",
              "      flex-wrap:wrap;\n",
              "      gap: 12px;\n",
              "    }\n",
              "\n",
              "    .colab-df-convert {\n",
              "      background-color: #E8F0FE;\n",
              "      border: none;\n",
              "      border-radius: 50%;\n",
              "      cursor: pointer;\n",
              "      display: none;\n",
              "      fill: #1967D2;\n",
              "      height: 32px;\n",
              "      padding: 0 0 0 0;\n",
              "      width: 32px;\n",
              "    }\n",
              "\n",
              "    .colab-df-convert:hover {\n",
              "      background-color: #E2EBFA;\n",
              "      box-shadow: 0px 1px 2px rgba(60, 64, 67, 0.3), 0px 1px 3px 1px rgba(60, 64, 67, 0.15);\n",
              "      fill: #174EA6;\n",
              "    }\n",
              "\n",
              "    [theme=dark] .colab-df-convert {\n",
              "      background-color: #3B4455;\n",
              "      fill: #D2E3FC;\n",
              "    }\n",
              "\n",
              "    [theme=dark] .colab-df-convert:hover {\n",
              "      background-color: #434B5C;\n",
              "      box-shadow: 0px 1px 3px 1px rgba(0, 0, 0, 0.15);\n",
              "      filter: drop-shadow(0px 1px 2px rgba(0, 0, 0, 0.3));\n",
              "      fill: #FFFFFF;\n",
              "    }\n",
              "  </style>\n",
              "\n",
              "      <script>\n",
              "        const buttonEl =\n",
              "          document.querySelector('#df-1b147b66-f245-4af6-a7cd-eadea4094da1 button.colab-df-convert');\n",
              "        buttonEl.style.display =\n",
              "          google.colab.kernel.accessAllowed ? 'block' : 'none';\n",
              "\n",
              "        async function convertToInteractive(key) {\n",
              "          const element = document.querySelector('#df-1b147b66-f245-4af6-a7cd-eadea4094da1');\n",
              "          const dataTable =\n",
              "            await google.colab.kernel.invokeFunction('convertToInteractive',\n",
              "                                                     [key], {});\n",
              "          if (!dataTable) return;\n",
              "\n",
              "          const docLinkHtml = 'Like what you see? Visit the ' +\n",
              "            '<a target=\"_blank\" href=https://colab.research.google.com/notebooks/data_table.ipynb>data table notebook</a>'\n",
              "            + ' to learn more about interactive tables.';\n",
              "          element.innerHTML = '';\n",
              "          dataTable['output_type'] = 'display_data';\n",
              "          await google.colab.output.renderOutput(dataTable, element);\n",
              "          const docLink = document.createElement('div');\n",
              "          docLink.innerHTML = docLinkHtml;\n",
              "          element.appendChild(docLink);\n",
              "        }\n",
              "      </script>\n",
              "    </div>\n",
              "  </div>\n",
              "  "
            ]
          },
          "metadata": {},
          "execution_count": 49
        }
      ]
    },
    {
      "cell_type": "markdown",
      "source": [
        "## Production quantity"
      ],
      "metadata": {
        "id": "8ADj05-M3Ijx"
      }
    },
    {
      "cell_type": "code",
      "source": [
        "raw_prod = pd.read_csv(\"data/Production Quantity.csv\")\n",
        "convert_dates_df(raw_prod, ('start_date', 'end_date'))\n",
        "raw_prod.dtypes"
      ],
      "metadata": {
        "colab": {
          "base_uri": "https://localhost:8080/"
        },
        "id": "_tOmExb-15XO",
        "outputId": "1d61ac33-cca6-4772-f545-50e6a77d0a66"
      },
      "execution_count": null,
      "outputs": [
        {
          "output_type": "execute_result",
          "data": {
            "text/plain": [
              "start_date    datetime64[ns]\n",
              "end_date      datetime64[ns]\n",
              "prod                   int64\n",
              "region_id              int64\n",
              "dtype: object"
            ]
          },
          "metadata": {},
          "execution_count": 50
        }
      ]
    },
    {
      "cell_type": "code",
      "source": [
        "raw_prod.isnull().any()"
      ],
      "metadata": {
        "colab": {
          "base_uri": "https://localhost:8080/"
        },
        "id": "1X5fPwyo3WMx",
        "outputId": "7b2536ef-c045-4ee0-b0a3-e2ba63428b09"
      },
      "execution_count": null,
      "outputs": [
        {
          "output_type": "execute_result",
          "data": {
            "text/plain": [
              "start_date    False\n",
              "end_date      False\n",
              "prod          False\n",
              "region_id     False\n",
              "dtype: bool"
            ]
          },
          "metadata": {},
          "execution_count": 51
        }
      ]
    },
    {
      "cell_type": "code",
      "source": [
        "check_regions(raw_prod)"
      ],
      "metadata": {
        "id": "dAWQiRh23ZQR"
      },
      "execution_count": null,
      "outputs": []
    },
    {
      "cell_type": "code",
      "source": [
        "raw_prod['months'] = month_diff(raw_prod['end_date'], start_date=prod_start_date)"
      ],
      "metadata": {
        "id": "5PJwYKLN3d0I"
      },
      "execution_count": null,
      "outputs": []
    },
    {
      "cell_type": "code",
      "source": [
        "check_number_months(raw_prod, start_date=prod_start_date, end_date=prod_end_date)"
      ],
      "metadata": {
        "id": "T_GlQg914kc4"
      },
      "execution_count": null,
      "outputs": []
    },
    {
      "cell_type": "code",
      "source": [
        "raw_prod['prod'].describe()"
      ],
      "metadata": {
        "colab": {
          "base_uri": "https://localhost:8080/"
        },
        "id": "MoiWgNxj5hhg",
        "outputId": "57643996-9bf5-45ca-a5c5-c94116ee789c"
      },
      "execution_count": null,
      "outputs": [
        {
          "output_type": "execute_result",
          "data": {
            "text/plain": [
              "count       720.000000\n",
              "mean     159014.201389\n",
              "std      142882.722751\n",
              "min       10215.000000\n",
              "25%       35445.500000\n",
              "50%       91945.500000\n",
              "75%      269946.000000\n",
              "max      593579.000000\n",
              "Name: prod, dtype: float64"
            ]
          },
          "metadata": {},
          "execution_count": 55
        }
      ]
    },
    {
      "cell_type": "code",
      "source": [
        "prod = raw_prod.groupby(['region_id', 'months'])['prod'].mean().to_frame('avg')\n",
        "prod_stacked = prod.unstack(level=0)\n",
        "prod_stacked.plot(figsize=(20, 10))"
      ],
      "metadata": {
        "colab": {
          "base_uri": "https://localhost:8080/",
          "height": 470
        },
        "id": "H1RABUSL5h6h",
        "outputId": "0c3c8d7b-e717-4859-e38b-d14e61530f36"
      },
      "execution_count": null,
      "outputs": [
        {
          "output_type": "execute_result",
          "data": {
            "text/plain": [
              "<matplotlib.axes._subplots.AxesSubplot at 0x7fc5555899d0>"
            ]
          },
          "metadata": {},
          "execution_count": 56
        },
        {
          "output_type": "display_data",
          "data": {
            "text/plain": [
              "<Figure size 1440x720 with 1 Axes>"
            ],
            "image/png": "[encoded data removed]"
          },
          "metadata": {
            "needs_background": "light"
          }
        }
      ]
    },
    {
      "cell_type": "markdown",
      "source": [
        "## Data"
      ],
      "metadata": {
        "id": "FbkMawSX7RlW"
      }
    },
    {
      "cell_type": "code",
      "source": [
        "precipitation_rn = precipitation.rename(columns={col: col+'_p' for col in precipitation.columns})\n",
        "moisture_rn = moisture.rename(columns={col: col+'_m' for col in moisture.columns})\n",
        "temperature_rn = temperature.rename(columns={col: col+'_t' for col in temperature.columns})\n",
        "ndvi_rn = ndvi.rename(columns={col: col+'_n' for col in ndvi.columns})\n",
        "prod_rn = ndvi.rename(columns={col: col+'_o' for col in ndvi.columns})\n",
        "\n",
        "data = precipitation_rn.copy()\n",
        "for df in [moisture_rn, temperature_rn, ndvi_rn, prod_rn]:\n",
        "  data = data.merge(df, left_index=True, right_index=True, how='outer')\n",
        "  print(data.isnull().any().any())"
      ],
      "metadata": {
        "colab": {
          "base_uri": "https://localhost:8080/"
        },
        "id": "Zqz1U3BJ7PA4",
        "outputId": "7238e022-f218-4b6a-c390-617e929af2fe"
      },
      "execution_count": null,
      "outputs": [
        {
          "output_type": "stream",
          "name": "stdout",
          "text": [
            "False\n",
            "False\n",
            "False\n",
            "False\n"
          ]
        }
      ]
    },
    {
      "cell_type": "code",
      "source": [
        "data.columns"
      ],
      "metadata": {
        "colab": {
          "base_uri": "https://localhost:8080/"
        },
        "id": "9VuuDpco88h_",
        "outputId": "4e2560f4-fdfd-4c14-ddda-2ec0574b857f"
      },
      "execution_count": null,
      "outputs": [
        {
          "output_type": "execute_result",
          "data": {
            "text/plain": [
              "Index(['q1_p', 'q2_p', 'q3_p', 'q4_p', 'd1_p', 'mx_p', 'mn_p', 'avg_p', 'q1_m',\n",
              "       'q2_m', 'q3_m', 'q4_m', 'd1_m', 'mx_m', 'mn_m', 'avg_m', 'q1_t', 'q2_t',\n",
              "       'q3_t', 'q4_t', 'd1_t', 'mx_t', 'mn_t', 'avg_t', 'avg_n', 'avg_o'],\n",
              "      dtype='object')"
            ]
          },
          "metadata": {},
          "execution_count": 58
        }
      ]
    }
  ]
}